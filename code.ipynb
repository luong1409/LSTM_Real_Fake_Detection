{
 "cells": [
  {
   "cell_type": "markdown",
   "metadata": {},
   "source": [
    "## Preprocess Dataset"
   ]
  },
  {
   "cell_type": "code",
   "execution_count": null,
   "metadata": {},
   "outputs": [],
   "source": [
    "import pandas as pd\n",
    "from sklearn.model_selection import train_test_split"
   ]
  },
  {
   "cell_type": "code",
   "execution_count": null,
   "metadata": {},
   "outputs": [],
   "source": [
    "train_test_ratio = 0.1\n",
    "train_valid_ratio = 0.8"
   ]
  },
  {
   "cell_type": "code",
   "execution_count": null,
   "metadata": {},
   "outputs": [],
   "source": [
    "first_n_words = 200"
   ]
  },
  {
   "cell_type": "code",
   "execution_count": null,
   "metadata": {},
   "outputs": [],
   "source": [
    "def trim_string(raw:str, first_n_words=200):\n",
    "    \"\"\"This is the function for truncate the input sentence.\n",
    "\n",
    "    Args:\n",
    "        raw (str): input sentence\n",
    "        first_n_words (int): the length of output sentence.\n",
    "\n",
    "    Returns:\n",
    "        output (str): the string after be truncated.\n",
    "    \"\"\"\n",
    "    raw = raw.split(maxsplit=first_n_words)\n",
    "    output = ' '.join(raw[:first_n_words])\n",
    "    return output"
   ]
  },
  {
   "cell_type": "code",
   "execution_count": null,
   "metadata": {},
   "outputs": [],
   "source": [
    "df_raw = pd.read_csv(filepath_or_buffer=\"news.csv\")\n",
    "df_raw.head()"
   ]
  },
  {
   "cell_type": "code",
   "execution_count": null,
   "metadata": {},
   "outputs": [],
   "source": [
    "df_raw['label'] = (df_raw['label'] == 'FAKE').astype('int')\n",
    "df_raw['titletext'] = df_raw['title'] + \". \" + df_raw[\"text\"]\n",
    "df_raw = df_raw.reindex(columns=[\"label\", 'title', 'text', 'titletext'])\n",
    "df_raw.head()"
   ]
  },
  {
   "cell_type": "code",
   "execution_count": null,
   "metadata": {},
   "outputs": [],
   "source": [
    "df_raw.drop(df_raw[df_raw.text.str.len() < 5].index, inplace=True, axis='index')\n",
    "df_raw.head()"
   ]
  },
  {
   "cell_type": "code",
   "execution_count": null,
   "metadata": {},
   "outputs": [],
   "source": [
    "df_raw['text'] = df_raw['text'].apply(trim_string)\n",
    "df_raw['titletext'] = df_raw['titletext'].apply(trim_string) "
   ]
  },
  {
   "cell_type": "code",
   "execution_count": null,
   "metadata": {},
   "outputs": [],
   "source": [
    "df_real = df_raw[df_raw['label'] == 0]\n",
    "df_fake = df_raw[df_raw['label'] == 1]"
   ]
  },
  {
   "cell_type": "code",
   "execution_count": null,
   "metadata": {},
   "outputs": [],
   "source": [
    "# train, test split\n",
    "df_real_train_full, df_real_test = train_test_split(df_real, test_size=train_test_ratio, random_state=1)\n",
    "df_fake_train_full, df_fake_test = train_test_split(df_fake, test_size=train_test_ratio, random_state=1)"
   ]
  },
  {
   "cell_type": "code",
   "execution_count": null,
   "metadata": {},
   "outputs": [],
   "source": [
    "# train, valid split\n",
    "df_real_train, df_real_valid = train_test_split(df_real_train_full, test_size=train_valid_ratio, random_state=1)\n",
    "df_fake_train, df_fake_valid = train_test_split(df_fake_train_full, test_size=train_valid_ratio, random_state=1)"
   ]
  },
  {
   "cell_type": "code",
   "execution_count": null,
   "metadata": {},
   "outputs": [],
   "source": [
    "df_train = pd.concat(objs=[df_real_train, df_fake_train], ignore_index=True, sort=False)\n",
    "df_test = pd.concat(objs=[df_real_test, df_fake_test], ignore_index=True, sort=False)\n",
    "df_valid = pd.concat(objs=[df_real_valid, df_fake_valid], ignore_index=True, sort=False)"
   ]
  },
  {
   "cell_type": "code",
   "execution_count": null,
   "metadata": {},
   "outputs": [],
   "source": [
    "import os\n",
    "\n",
    "os.makedirs(name='data', exist_ok=True)\n",
    "df_train.to_csv('data/train.csv', index=False)\n",
    "df_test.to_csv('data/test.csv', index=False)\n",
    "df_valid.to_csv('data/valid.csv', index=False)"
   ]
  },
  {
   "cell_type": "code",
   "execution_count": null,
   "metadata": {},
   "outputs": [],
   "source": [
    "df_train.head()"
   ]
  },
  {
   "cell_type": "markdown",
   "metadata": {},
   "source": [
    "## Import libraries"
   ]
  },
  {
   "cell_type": "code",
   "execution_count": 1,
   "metadata": {},
   "outputs": [
    {
     "name": "stderr",
     "output_type": "stream",
     "text": [
      "/home/huy/anaconda3/envs/nlp/lib/python3.7/site-packages/tqdm/auto.py:22: TqdmWarning: IProgress not found. Please update jupyter and ipywidgets. See https://ipywidgets.readthedocs.io/en/stable/user_install.html\n",
      "  from .autonotebook import tqdm as notebook_tqdm\n"
     ]
    }
   ],
   "source": [
    "import matplotlib.pyplot as plt\n",
    "import pandas as pd\n",
    "import torch\n",
    "\n",
    "from torchtext.data.utils import get_tokenizer\n",
    "from torchtext.vocab import build_vocab_from_iterator\n",
    "\n",
    "import torch.nn as nn\n",
    "from torch.nn.utils.rnn import pack_padded_sequence, pad_packed_sequence, pad_sequence\n",
    "\n",
    "import torch.optim as optim\n",
    "\n",
    "from sklearn.metrics import accuracy_score, classification_report, confusion_matrix\n",
    "import seaborn as sns"
   ]
  },
  {
   "cell_type": "code",
   "execution_count": 2,
   "metadata": {},
   "outputs": [],
   "source": [
    "from torch.utils.data import Dataset, DataLoader"
   ]
  },
  {
   "cell_type": "code",
   "execution_count": 3,
   "metadata": {},
   "outputs": [],
   "source": [
    "from loguru import logger"
   ]
  },
  {
   "cell_type": "markdown",
   "metadata": {},
   "source": [
    "## Step 3: Load Dataset"
   ]
  },
  {
   "cell_type": "code",
   "execution_count": 4,
   "metadata": {},
   "outputs": [],
   "source": [
    "class NewsDataset(Dataset):\n",
    "    \"\"\"Initialize\n",
    "\n",
    "    Args:\n",
    "        df (pd.DataFrame): train or test or valid dataframe.\n",
    "    \"\"\"\n",
    "    def __init__(self, df:pd.DataFrame):\n",
    "        self.labels = df['label'].values\n",
    "        self.texts = df['titletext'].values\n",
    "        \n",
    "    def __len__(self):\n",
    "        return len(self.labels)\n",
    "    \n",
    "    def get_batch_labels(self, index):\n",
    "        return self.labels[index]\n",
    "    \n",
    "    def get_batch_texts(self, index):\n",
    "        return self.texts[index]\n",
    "    \n",
    "    def __getitem__(self, index):\n",
    "        batch_texts = self.get_batch_texts(index)\n",
    "        batch_labels = self.get_batch_labels(index)\n",
    "        \n",
    "        return batch_labels, batch_texts"
   ]
  },
  {
   "cell_type": "code",
   "execution_count": 5,
   "metadata": {},
   "outputs": [],
   "source": [
    "train_df = pd.read_csv('data/train.csv')\n",
    "train_df['text_len'] = train_df.apply(lambda x:len(x.text), axis=1)\n",
    "train_df = train_df.sort_values(by=\"text_len\")"
   ]
  },
  {
   "cell_type": "code",
   "execution_count": 6,
   "metadata": {},
   "outputs": [],
   "source": [
    "train_dataset = NewsDataset(train_df)"
   ]
  },
  {
   "cell_type": "code",
   "execution_count": 7,
   "metadata": {},
   "outputs": [],
   "source": [
    "valid_df = pd.read_csv('data/valid.csv')\n",
    "valid_df['text_len'] = valid_df.apply(lambda x:len(x.text), axis=1)\n",
    "valid_df = valid_df.sort_values(by=\"text_len\")"
   ]
  },
  {
   "cell_type": "code",
   "execution_count": 8,
   "metadata": {},
   "outputs": [],
   "source": [
    "valid_dataset = NewsDataset(valid_df)"
   ]
  },
  {
   "cell_type": "code",
   "execution_count": 9,
   "metadata": {},
   "outputs": [],
   "source": [
    "tokenizer = get_tokenizer(tokenizer=\"basic_english\")"
   ]
  },
  {
   "cell_type": "code",
   "execution_count": 16,
   "metadata": {},
   "outputs": [],
   "source": [
    "def yield_tokens(data_iter, tokenizer):\n",
    "    for text in data_iter:\n",
    "        yield tokenizer(text)"
   ]
  },
  {
   "cell_type": "code",
   "execution_count": 17,
   "metadata": {},
   "outputs": [],
   "source": [
    "vocab = build_vocab_from_iterator(\n",
    "    yield_tokens(iter(train_df.titletext), tokenizer=tokenizer), \n",
    "    specials=[\"<pad>\", \"<unk>\"],\n",
    "    min_freq=3,\n",
    ")"
   ]
  },
  {
   "cell_type": "code",
   "execution_count": 18,
   "metadata": {},
   "outputs": [],
   "source": [
    "# token <unk> will be returned\n",
    "# if OOV token is queried\n",
    "vocab.set_default_index(vocab[\"<unk>\"])"
   ]
  },
  {
   "cell_type": "markdown",
   "metadata": {},
   "source": [
    "OOV token is <font color='green'>**Out of Vocabulary**</font> token"
   ]
  },
  {
   "cell_type": "code",
   "execution_count": 19,
   "metadata": {},
   "outputs": [],
   "source": [
    "text_pipeline = lambda x: vocab(tokenizer(x))"
   ]
  },
  {
   "cell_type": "code",
   "execution_count": 20,
   "metadata": {},
   "outputs": [],
   "source": [
    "def collate_fn(batch):\n",
    "    label_list, text_list, text_len = [], [], []\n",
    "    \n",
    "    for (label_, text_) in batch:\n",
    "        label_list.append(label_)\n",
    "        preprocessed_text = text_pipeline(text_)\n",
    "        text_list.append(torch.LongTensor(preprocessed_text))\n",
    "        text_len.append(len(preprocessed_text))\n",
    "    \n",
    "    padded_sequences = pad_sequence(sequences=text_list, padding_value=vocab[\"<pad>\"], batch_first=True)\n",
    "    \n",
    "    return torch.Tensor(label_list), padded_sequences, text_len"
   ]
  },
  {
   "cell_type": "code",
   "execution_count": 21,
   "metadata": {},
   "outputs": [],
   "source": [
    "train_loader = DataLoader(\n",
    "    dataset=train_dataset,\n",
    "    batch_size=8,\n",
    "    shuffle=False,\n",
    "    collate_fn=collate_fn\n",
    ")"
   ]
  },
  {
   "cell_type": "code",
   "execution_count": 22,
   "metadata": {},
   "outputs": [],
   "source": [
    "valid_loader = DataLoader(\n",
    "    dataset=valid_dataset,\n",
    "    batch_size=8,\n",
    "    shuffle=False,\n",
    "    collate_fn=collate_fn\n",
    ")"
   ]
  },
  {
   "cell_type": "code",
   "execution_count": 23,
   "metadata": {},
   "outputs": [
    {
     "data": {
      "text/plain": [
       "7153"
      ]
     },
     "execution_count": 23,
     "metadata": {},
     "output_type": "execute_result"
    }
   ],
   "source": [
    "vocab_size = len(vocab)\n",
    "vocab_size"
   ]
  },
  {
   "cell_type": "code",
   "execution_count": 24,
   "metadata": {},
   "outputs": [
    {
     "name": "stdout",
     "output_type": "stream",
     "text": [
      "(tensor([1., 0., 0., 1., 0., 0., 0., 0.]), tensor([[ 583,  247,    1,  602,   12,    7,    1,    5,  174,  124,    3,   49,\n",
      "          834,    3,    3,  415, 1536,    1,    4,   55,   19,    1,    1,    0],\n",
      "        [3004, 6445,  279,   22,   14,  798,    8, 3643,    6, 2007,   14,    3,\n",
      "         1931,  132,   55,  137,  166,  141,  714, 3004,  205,  108,  169,  118],\n",
      "        [5749,   14,   15, 6022,    1,  218,  333, 1084,    3,    2,  997,  294,\n",
      "         4943, 2353,   17,   28,   57, 1388,    3,    0,    0,    0,    0,    0],\n",
      "        [ 213,    1, 5385, 4506, 1023,   16,  553, 1622,    3,  213,    1, 5385,\n",
      "         4506, 1023,   16,  553, 1622,    0,    0,    0,    0,    0,    0,    0],\n",
      "        [ 924,   14,   15,    1, 2357,  169,    3,    2,    1,  552,    5,  533,\n",
      "           79,   23,   11, 3626, 1611,    3,    0,    0,    0,    0,    0,    0],\n",
      "        [  29, 3390,    5, 2018,  162,    1,   13,  203, 2005,    3,    7, 3426,\n",
      "            9, 1417,   91,   27, 1632, 1434,   12, 2133, 3385,    3,    0,    0],\n",
      "        [ 763,    1,   26,   29, 1523,    3,    7, 3426,    9, 1417,   91,   27,\n",
      "         1632, 1434,   12, 2133, 3385,    3,    0,    0,    0,    0,    0,    0],\n",
      "        [ 773,   40,   29,   14,   15,   55,  523,    3,    7, 3426,    9, 1417,\n",
      "           91,   27, 1632, 1434,   12, 2133, 3385,    3,    0,    0,    0,    0]]), [23, 24, 19, 17, 18, 22, 18, 20])\n"
     ]
    }
   ],
   "source": [
    "for d in train_loader:\n",
    "    print(d)\n",
    "    break"
   ]
  },
  {
   "cell_type": "markdown",
   "metadata": {},
   "source": [
    "## Step 4: Build Model"
   ]
  },
  {
   "cell_type": "code",
   "execution_count": 25,
   "metadata": {},
   "outputs": [],
   "source": [
    "class RealFakeDetection(nn.Module):\n",
    "    \n",
    "    def __init__(self, dimension=128, max_features=vocab_size):\n",
    "        super().__init__()\n",
    "        \n",
    "        self.embedding = nn.Embedding(num_embeddings=max_features, embedding_dim=300)\n",
    "        self.dimension = dimension\n",
    "        self.lstm = nn.LSTM(\n",
    "            input_size=300,\n",
    "            hidden_size=dimension,\n",
    "            num_layers=1,\n",
    "            batch_first=True,\n",
    "            bidirectional=True\n",
    "        )\n",
    "        \n",
    "        self.drop = nn.Dropout(p=0.5)\n",
    "        \n",
    "        self.fc = nn.Linear(\n",
    "            in_features=2*dimension,\n",
    "            out_features=1\n",
    "        )\n",
    "    \n",
    "    def forward(self, text, text_len):\n",
    "        text_emb = self.embedding(text)\n",
    "        \n",
    "        packed_input = pack_padded_sequence(\n",
    "            input=text_emb, \n",
    "            lengths=text_len,\n",
    "            batch_first=True,\n",
    "            enforce_sorted=False\n",
    "        )\n",
    "        packed_output, _ = self.lstm(packed_input)\n",
    "        output, _ = pad_packed_sequence(\n",
    "            sequence=packed_output,\n",
    "            batch_first=True\n",
    "        )\n",
    "        \n",
    "        # for getting the final dept-wise and time-wise\n",
    "        out_forward = output[:, max(text_len) - 1, :self.dimension]\n",
    "        out_reverse = output[:, 0, self.dimension:]\n",
    "        out_reduced = torch.cat(tensors=(out_forward, out_reverse),\n",
    "                                dim=1)\n",
    "        # current shape is: (batch_size, 2*self.dimension)\n",
    "        text_fea = self.drop(out_reduced)\n",
    "        # -> shape: (batch_size, 1)\n",
    "        # because fully connected layer have out_features is `1`\n",
    "        text_fea = self.fc(text_fea)\n",
    "        \n",
    "        # squeeze with dim=1 will return flatten tensor.\n",
    "        text_fea = torch.squeeze(text_fea, 1)\n",
    "        text_out = torch.sigmoid(text_fea)\n",
    "        \n",
    "        return text_out"
   ]
  },
  {
   "cell_type": "markdown",
   "metadata": {},
   "source": [
    "## Step 5: Training"
   ]
  },
  {
   "cell_type": "code",
   "execution_count": 26,
   "metadata": {},
   "outputs": [],
   "source": [
    "def save_checkpoint(save_path, model:RealFakeDetection, optimizer:optim.Optimizer, valid_loss):\n",
    "    \n",
    "    if save_path == None:\n",
    "        logger.warning(\"save_path is None. So save_path is set to ==> 'models/lstm.pt'\")\n",
    "        os.makedirs(\"models/\", exist_ok=True)\n",
    "        save_path = \"models/lstm.pt\"\n",
    "    \n",
    "    folder_path = os.path.split(save_path)[0]\n",
    "    \n",
    "    if not os.path.exists(folder_path):\n",
    "        os.makedirs(folder_path,)\n",
    "    \n",
    "    state_dict = {\n",
    "        'model_state_dict': model.state_dict(),\n",
    "        'optimizer': optimizer.state_dict(),\n",
    "        'valid_loss': valid_loss\n",
    "    }\n",
    "    \n",
    "    torch.save(obj=state_dict, f=save_path)\n",
    "    logger.info(f\"Model saved to ==> {save_path}\")"
   ]
  },
  {
   "cell_type": "code",
   "execution_count": 27,
   "metadata": {},
   "outputs": [],
   "source": [
    "def load_checkpoint(load_path, model:RealFakeDetection, optimizer:optim.Optimizer, device):\n",
    "    if load_path == None:\n",
    "        logger.warning(\"load_path is None. So load_path is set to 'models/lstm.pt'\")\n",
    "        load_path = \"models/lstm.pt\"\n",
    "    \n",
    "    state_dict = torch.load(\n",
    "        f=load_path,\n",
    "        map_location=device\n",
    "    )\n",
    "    logger.info(f\"Model loaded from <== {load_path}\")\n",
    "    \n",
    "    model.load_state_dict(state_dict=state_dict['model_state_dict'])\n",
    "    optimizer.load_state_dict(state_dict=state_dict['optimizer'])\n",
    "    \n",
    "    return state_dict['valid_loss']"
   ]
  },
  {
   "cell_type": "code",
   "execution_count": 28,
   "metadata": {},
   "outputs": [],
   "source": [
    "def save_metrics(save_path, train_loss_list, valid_loss_list, global_steps_list):\n",
    "    \n",
    "    if save_path is None:\n",
    "        os.makedirs(name=\"metrics\", exist_ok=True)\n",
    "        save_path = \"metrics/loss.list\"\n",
    "        logger.warning(f\"save_path is None. So save_path is set to '{save_path}'\")\n",
    "    \n",
    "    state_dict = {\n",
    "        'train_loss_list': train_loss_list,\n",
    "        'valid_loss_list': valid_loss_list,\n",
    "        'global_steps_list': global_steps_list\n",
    "    }\n",
    "    \n",
    "    torch.save(obj=state_dict, f=save_path)\n",
    "    logger.info(f\"Model saved to ==> {save_path}\")"
   ]
  },
  {
   "cell_type": "code",
   "execution_count": 29,
   "metadata": {},
   "outputs": [],
   "source": [
    "def load_metrics(load_path, device):\n",
    "    if load_path == None:\n",
    "        load_path = \"metrics/loss.list\"\n",
    "        logger.warning(f\"load_path is None. So load_path is set to '{load_path}'\")\n",
    "    \n",
    "    state_dict = torch.load(f=load_path, map_location=device)\n",
    "    logger.info(f'Model loaded from <== {load_path}')\n",
    "    \n",
    "    return state_dict['train_loss_list'], state_dict['valid_loss_list'], state_dict['global_steps_list']"
   ]
  },
  {
   "cell_type": "markdown",
   "metadata": {},
   "source": [
    "For checkpoints, the model parameters and optimizer are saved; <br>\n",
    "<font color=\"green\">**$\\to$ for metrics, the train loss, valid loss, and global steps are saved so diagrams can be easily reconstructed later.**</font>"
   ]
  },
  {
   "cell_type": "code",
   "execution_count": 30,
   "metadata": {},
   "outputs": [],
   "source": [
    "def train(\n",
    "    model:RealFakeDetection,\n",
    "    optimizer:optim.Optimizer,\n",
    "    device,\n",
    "    criterion=nn.BCELoss(),\n",
    "    train_loader=train_loader,\n",
    "    valid_loader=valid_loader,\n",
    "    num_epochs=5,\n",
    "    eval_every=len(train_loader) // 2,\n",
    "    file_path=\"models\",\n",
    "    best_valid_loss=float(\"Inf\")\n",
    "):\n",
    "    \n",
    "    running_loss = 0.0\n",
    "    valid_running_loss = 0.0\n",
    "    global_step = 0\n",
    "    train_loss_list = []\n",
    "    valid_loss_list = []\n",
    "    global_steps_list = []\n",
    "    \n",
    "    logger.info(\"================== Start training ==================\")\n",
    "    model.train()\n",
    "    for epoch in range(num_epochs):\n",
    "        for (labels, titletext, titletext_len) in train_loader:\n",
    "            labels = labels.to(device)\n",
    "            titletext = titletext.to(device)\n",
    "            titletext_len = titletext_len\n",
    "            output = model(\n",
    "                text=titletext,\n",
    "                text_len=titletext_len\n",
    "            )\n",
    "            \n",
    "            loss = criterion(output, labels)\n",
    "            optimizer.zero_grad()\n",
    "            loss.backward()\n",
    "            optimizer.step()\n",
    "            \n",
    "            # update running values\n",
    "            running_loss += loss.item()\n",
    "            global_step += 1 \n",
    "            \n",
    "            # evaluation step\n",
    "            if global_step % eval_every == 0:\n",
    "                model.eval()\n",
    "                \n",
    "                with torch.no_grad():\n",
    "                    # validation loop\n",
    "                    for (labels, titletext, titletext_len) in valid_loader:\n",
    "                        labels = labels.to(device)\n",
    "                        titletext = titletext.to(device)\n",
    "                        titletext_len = titletext_len\n",
    "                        output = model(titletext, titletext_len)\n",
    "                        \n",
    "                        loss = criterion(output, labels)\n",
    "                        valid_running_loss += loss.item()\n",
    "                \n",
    "                # evaluation\n",
    "                average_train_loss = running_loss / eval_every\n",
    "                average_valid_loss = valid_running_loss / len(valid_loader)\n",
    "                train_loss_list.append(average_train_loss)\n",
    "                valid_loss_list.append(average_valid_loss)\n",
    "                global_steps_list.append(global_step)\n",
    "                \n",
    "                # resetting running values\n",
    "                running_loss = 0.0\n",
    "                valid_running_loss = 0.0\n",
    "                model.train()\n",
    "                \n",
    "                # print progress\n",
    "                logger.info(\n",
    "                    'Epoch [{}/{}], Step [{}/{}], Train Loss: {:.4f}, Valid Loss: {:.4f}'\\\n",
    "                        .format(epoch+1, num_epochs, global_step, num_epochs*len(train_loader), average_train_loss, average_valid_loss))\n",
    "                \n",
    "                # checkpoint\n",
    "                if best_valid_loss > average_valid_loss:\n",
    "                    best_valid_loss = average_train_loss\n",
    "                    save_checkpoint(\n",
    "                        save_path=file_path + \"/model.pt\",\n",
    "                        model=model,\n",
    "                        optimizer=optimizer,\n",
    "                        valid_loss=best_valid_loss\n",
    "                    )\n",
    "                    save_metrics(\n",
    "                        valid_loss_list=valid_loss_list,\n",
    "                        global_steps_list=global_steps_list,\n",
    "                        save_path=file_path + \"/metrics.pt\",\n",
    "                        train_loss_list=train_loss_list\n",
    "                    )\n",
    "    save_metrics(\n",
    "        valid_loss_list=valid_loss_list,\n",
    "        global_steps_list=global_steps_list,\n",
    "        save_path=file_path + \"/metrics.pt\",\n",
    "        train_loss_list=train_loss_list\n",
    "    )\n",
    "    logger.info(\"Finished Training!\")"
   ]
  },
  {
   "cell_type": "code",
   "execution_count": 31,
   "metadata": {},
   "outputs": [],
   "source": [
    "device = torch.device(\"cuda\" if torch.cuda.is_available() else \"cpu\")"
   ]
  },
  {
   "cell_type": "code",
   "execution_count": 32,
   "metadata": {},
   "outputs": [],
   "source": [
    "model = RealFakeDetection(dimension=128, max_features=vocab_size).to(device=device)"
   ]
  },
  {
   "cell_type": "code",
   "execution_count": 33,
   "metadata": {},
   "outputs": [],
   "source": [
    "optimizer = optim.Adam(model.parameters(), lr=0.001)"
   ]
  },
  {
   "cell_type": "code",
   "execution_count": 35,
   "metadata": {},
   "outputs": [
    {
     "name": "stderr",
     "output_type": "stream",
     "text": [
      "2022-12-01 10:26:15.250 | INFO     | __main__:train:21 - ================== Start training ==================\n",
      "2022-12-01 10:26:18.472 | INFO     | __main__:train:72 - Epoch [1/100], Step [71/14200], Train Loss: 0.0009, Valid Loss: 0.8094\n",
      "2022-12-01 10:26:18.523 | INFO     | __main__:save_checkpoint:20 - Model saved to ==> modelst/model.pt\n",
      "2022-12-01 10:26:18.524 | INFO     | __main__:save_metrics:15 - Model saved to ==> modelst/metrics.pt\n",
      "2022-12-01 10:26:21.802 | INFO     | __main__:train:72 - Epoch [1/100], Step [142/14200], Train Loss: 0.0005, Valid Loss: 0.8227\n",
      "2022-12-01 10:26:25.024 | INFO     | __main__:train:72 - Epoch [2/100], Step [213/14200], Train Loss: 0.0006, Valid Loss: 0.8418\n",
      "2022-12-01 10:26:28.351 | INFO     | __main__:train:72 - Epoch [2/100], Step [284/14200], Train Loss: 0.0005, Valid Loss: 0.8509\n",
      "2022-12-01 10:26:31.479 | INFO     | __main__:train:72 - Epoch [3/100], Step [355/14200], Train Loss: 0.0005, Valid Loss: 0.8688\n",
      "2022-12-01 10:26:34.723 | INFO     | __main__:train:72 - Epoch [3/100], Step [426/14200], Train Loss: 0.0004, Valid Loss: 0.8823\n",
      "2022-12-01 10:26:37.848 | INFO     | __main__:train:72 - Epoch [4/100], Step [497/14200], Train Loss: 0.0004, Valid Loss: 0.8950\n",
      "2022-12-01 10:26:41.081 | INFO     | __main__:train:72 - Epoch [4/100], Step [568/14200], Train Loss: 0.0003, Valid Loss: 0.9063\n",
      "2022-12-01 10:26:44.207 | INFO     | __main__:train:72 - Epoch [5/100], Step [639/14200], Train Loss: 0.0004, Valid Loss: 0.9185\n",
      "2022-12-01 10:26:47.450 | INFO     | __main__:train:72 - Epoch [5/100], Step [710/14200], Train Loss: 0.0002, Valid Loss: 0.9308\n",
      "2022-12-01 10:26:50.573 | INFO     | __main__:train:72 - Epoch [6/100], Step [781/14200], Train Loss: 0.0003, Valid Loss: 0.9409\n",
      "2022-12-01 10:26:53.805 | INFO     | __main__:train:72 - Epoch [6/100], Step [852/14200], Train Loss: 0.0002, Valid Loss: 0.9463\n",
      "2022-12-01 10:26:56.933 | INFO     | __main__:train:72 - Epoch [7/100], Step [923/14200], Train Loss: 0.0002, Valid Loss: 0.9588\n",
      "2022-12-01 10:27:00.164 | INFO     | __main__:train:72 - Epoch [7/100], Step [994/14200], Train Loss: 0.0001, Valid Loss: 0.9668\n",
      "2022-12-01 10:27:03.291 | INFO     | __main__:train:72 - Epoch [8/100], Step [1065/14200], Train Loss: 0.0002, Valid Loss: 0.9795\n",
      "2022-12-01 10:27:06.648 | INFO     | __main__:train:72 - Epoch [8/100], Step [1136/14200], Train Loss: 0.0001, Valid Loss: 0.9922\n",
      "2022-12-01 10:27:09.965 | INFO     | __main__:train:72 - Epoch [9/100], Step [1207/14200], Train Loss: 0.0002, Valid Loss: 1.0013\n",
      "2022-12-01 10:27:13.225 | INFO     | __main__:train:72 - Epoch [9/100], Step [1278/14200], Train Loss: 0.0001, Valid Loss: 1.0127\n",
      "2022-12-01 10:27:16.361 | INFO     | __main__:train:72 - Epoch [10/100], Step [1349/14200], Train Loss: 0.0001, Valid Loss: 1.0166\n",
      "2022-12-01 10:27:19.609 | INFO     | __main__:train:72 - Epoch [10/100], Step [1420/14200], Train Loss: 0.0001, Valid Loss: 1.0275\n",
      "2022-12-01 10:27:22.734 | INFO     | __main__:train:72 - Epoch [11/100], Step [1491/14200], Train Loss: 0.0001, Valid Loss: 1.0384\n",
      "2022-12-01 10:27:25.980 | INFO     | __main__:train:72 - Epoch [11/100], Step [1562/14200], Train Loss: 0.0001, Valid Loss: 1.0597\n",
      "2022-12-01 10:27:29.102 | INFO     | __main__:train:72 - Epoch [12/100], Step [1633/14200], Train Loss: 0.0001, Valid Loss: 1.0578\n",
      "2022-12-01 10:27:32.462 | INFO     | __main__:train:72 - Epoch [12/100], Step [1704/14200], Train Loss: 0.0001, Valid Loss: 1.0572\n",
      "2022-12-01 10:27:35.639 | INFO     | __main__:train:72 - Epoch [13/100], Step [1775/14200], Train Loss: 0.0001, Valid Loss: 1.0610\n",
      "2022-12-01 10:27:38.890 | INFO     | __main__:train:72 - Epoch [13/100], Step [1846/14200], Train Loss: 0.0001, Valid Loss: 1.0731\n",
      "2022-12-01 10:27:42.025 | INFO     | __main__:train:72 - Epoch [14/100], Step [1917/14200], Train Loss: 0.0001, Valid Loss: 1.0856\n",
      "2022-12-01 10:27:45.283 | INFO     | __main__:train:72 - Epoch [14/100], Step [1988/14200], Train Loss: 0.0001, Valid Loss: 1.1006\n",
      "2022-12-01 10:27:48.400 | INFO     | __main__:train:72 - Epoch [15/100], Step [2059/14200], Train Loss: 0.0001, Valid Loss: 1.1092\n",
      "2022-12-01 10:27:51.636 | INFO     | __main__:train:72 - Epoch [15/100], Step [2130/14200], Train Loss: 0.0001, Valid Loss: 1.1138\n",
      "2022-12-01 10:27:54.757 | INFO     | __main__:train:72 - Epoch [16/100], Step [2201/14200], Train Loss: 0.0001, Valid Loss: 1.1270\n",
      "2022-12-01 10:27:57.991 | INFO     | __main__:train:72 - Epoch [16/100], Step [2272/14200], Train Loss: 0.0001, Valid Loss: 1.1425\n",
      "2022-12-01 10:28:01.120 | INFO     | __main__:train:72 - Epoch [17/100], Step [2343/14200], Train Loss: 0.0001, Valid Loss: 1.1384\n",
      "2022-12-01 10:28:04.366 | INFO     | __main__:train:72 - Epoch [17/100], Step [2414/14200], Train Loss: 0.0001, Valid Loss: 1.1556\n",
      "2022-12-01 10:28:07.503 | INFO     | __main__:train:72 - Epoch [18/100], Step [2485/14200], Train Loss: 0.0001, Valid Loss: 1.1701\n",
      "2022-12-01 10:28:10.759 | INFO     | __main__:train:72 - Epoch [18/100], Step [2556/14200], Train Loss: 0.0000, Valid Loss: 1.1839\n",
      "2022-12-01 10:28:14.041 | INFO     | __main__:train:72 - Epoch [19/100], Step [2627/14200], Train Loss: 0.0001, Valid Loss: 1.1979\n",
      "2022-12-01 10:28:17.424 | INFO     | __main__:train:72 - Epoch [19/100], Step [2698/14200], Train Loss: 0.0000, Valid Loss: 1.1939\n",
      "2022-12-01 10:28:20.625 | INFO     | __main__:train:72 - Epoch [20/100], Step [2769/14200], Train Loss: 0.0001, Valid Loss: 1.1973\n",
      "2022-12-01 10:28:23.885 | INFO     | __main__:train:72 - Epoch [20/100], Step [2840/14200], Train Loss: 0.0000, Valid Loss: 1.2090\n",
      "2022-12-01 10:28:27.004 | INFO     | __main__:train:72 - Epoch [21/100], Step [2911/14200], Train Loss: 0.0000, Valid Loss: 1.2254\n",
      "2022-12-01 10:28:30.249 | INFO     | __main__:train:72 - Epoch [21/100], Step [2982/14200], Train Loss: 0.0000, Valid Loss: 1.2303\n",
      "2022-12-01 10:28:33.372 | INFO     | __main__:train:72 - Epoch [22/100], Step [3053/14200], Train Loss: 0.0449, Valid Loss: 0.7864\n",
      "2022-12-01 10:28:36.624 | INFO     | __main__:train:72 - Epoch [22/100], Step [3124/14200], Train Loss: 0.0600, Valid Loss: 0.6594\n",
      "2022-12-01 10:28:39.873 | INFO     | __main__:train:72 - Epoch [23/100], Step [3195/14200], Train Loss: 0.0240, Valid Loss: 0.7170\n",
      "2022-12-01 10:28:43.136 | INFO     | __main__:train:72 - Epoch [23/100], Step [3266/14200], Train Loss: 0.0039, Valid Loss: 0.7324\n",
      "2022-12-01 10:28:46.265 | INFO     | __main__:train:72 - Epoch [24/100], Step [3337/14200], Train Loss: 0.0022, Valid Loss: 0.7807\n",
      "2022-12-01 10:28:49.502 | INFO     | __main__:train:72 - Epoch [24/100], Step [3408/14200], Train Loss: 0.0017, Valid Loss: 0.7519\n",
      "2022-12-01 10:28:52.626 | INFO     | __main__:train:72 - Epoch [25/100], Step [3479/14200], Train Loss: 0.0008, Valid Loss: 0.7668\n",
      "2022-12-01 10:28:55.871 | INFO     | __main__:train:72 - Epoch [25/100], Step [3550/14200], Train Loss: 0.0008, Valid Loss: 0.7762\n",
      "2022-12-01 10:28:58.987 | INFO     | __main__:train:72 - Epoch [26/100], Step [3621/14200], Train Loss: 0.0007, Valid Loss: 0.7879\n",
      "2022-12-01 10:29:02.241 | INFO     | __main__:train:72 - Epoch [26/100], Step [3692/14200], Train Loss: 0.0006, Valid Loss: 0.7956\n",
      "2022-12-01 10:29:05.398 | INFO     | __main__:train:72 - Epoch [27/100], Step [3763/14200], Train Loss: 0.0005, Valid Loss: 0.8048\n",
      "2022-12-01 10:29:08.659 | INFO     | __main__:train:72 - Epoch [27/100], Step [3834/14200], Train Loss: 0.0004, Valid Loss: 0.8136\n",
      "2022-12-01 10:29:11.809 | INFO     | __main__:train:72 - Epoch [28/100], Step [3905/14200], Train Loss: 0.0003, Valid Loss: 0.8205\n",
      "2022-12-01 10:29:15.039 | INFO     | __main__:train:72 - Epoch [28/100], Step [3976/14200], Train Loss: 0.0004, Valid Loss: 0.8308\n",
      "2022-12-01 10:29:18.152 | INFO     | __main__:train:72 - Epoch [29/100], Step [4047/14200], Train Loss: 0.0004, Valid Loss: 0.8403\n",
      "2022-12-01 10:29:21.601 | INFO     | __main__:train:72 - Epoch [29/100], Step [4118/14200], Train Loss: 0.0002, Valid Loss: 0.8500\n",
      "2022-12-01 10:29:24.810 | INFO     | __main__:train:72 - Epoch [30/100], Step [4189/14200], Train Loss: 0.0002, Valid Loss: 0.8567\n",
      "2022-12-01 10:29:28.059 | INFO     | __main__:train:72 - Epoch [30/100], Step [4260/14200], Train Loss: 0.0002, Valid Loss: 0.8648\n",
      "2022-12-01 10:29:31.189 | INFO     | __main__:train:72 - Epoch [31/100], Step [4331/14200], Train Loss: 0.0003, Valid Loss: 0.8788\n",
      "2022-12-01 10:29:34.443 | INFO     | __main__:train:72 - Epoch [31/100], Step [4402/14200], Train Loss: 0.0002, Valid Loss: 0.8870\n",
      "2022-12-01 10:29:37.573 | INFO     | __main__:train:72 - Epoch [32/100], Step [4473/14200], Train Loss: 0.0001, Valid Loss: 0.8938\n",
      "2022-12-01 10:29:40.830 | INFO     | __main__:train:72 - Epoch [32/100], Step [4544/14200], Train Loss: 0.0002, Valid Loss: 0.9026\n",
      "2022-12-01 10:29:44.035 | INFO     | __main__:train:72 - Epoch [33/100], Step [4615/14200], Train Loss: 0.0001, Valid Loss: 0.9071\n",
      "2022-12-01 10:29:47.432 | INFO     | __main__:train:72 - Epoch [33/100], Step [4686/14200], Train Loss: 0.0001, Valid Loss: 0.9137\n",
      "2022-12-01 10:29:50.585 | INFO     | __main__:train:72 - Epoch [34/100], Step [4757/14200], Train Loss: 0.0001, Valid Loss: 0.9162\n",
      "2022-12-01 10:29:53.833 | INFO     | __main__:train:72 - Epoch [34/100], Step [4828/14200], Train Loss: 0.0001, Valid Loss: 0.9239\n",
      "2022-12-01 10:29:56.964 | INFO     | __main__:train:72 - Epoch [35/100], Step [4899/14200], Train Loss: 0.0001, Valid Loss: 0.9304\n",
      "2022-12-01 10:30:00.222 | INFO     | __main__:train:72 - Epoch [35/100], Step [4970/14200], Train Loss: 0.0001, Valid Loss: 0.9370\n",
      "2022-12-01 10:30:03.365 | INFO     | __main__:train:72 - Epoch [36/100], Step [5041/14200], Train Loss: 0.0001, Valid Loss: 0.9450\n",
      "2022-12-01 10:30:06.622 | INFO     | __main__:train:72 - Epoch [36/100], Step [5112/14200], Train Loss: 0.0001, Valid Loss: 0.9529\n",
      "2022-12-01 10:30:09.741 | INFO     | __main__:train:72 - Epoch [37/100], Step [5183/14200], Train Loss: 0.0001, Valid Loss: 0.9580\n",
      "2022-12-01 10:30:12.996 | INFO     | __main__:train:72 - Epoch [37/100], Step [5254/14200], Train Loss: 0.0001, Valid Loss: 0.9632\n",
      "2022-12-01 10:30:16.142 | INFO     | __main__:train:72 - Epoch [38/100], Step [5325/14200], Train Loss: 0.0001, Valid Loss: 0.9671\n",
      "2022-12-01 10:30:19.373 | INFO     | __main__:train:72 - Epoch [38/100], Step [5396/14200], Train Loss: 0.0001, Valid Loss: 0.9758\n",
      "2022-12-01 10:30:22.488 | INFO     | __main__:train:72 - Epoch [39/100], Step [5467/14200], Train Loss: 0.0001, Valid Loss: 0.9806\n",
      "2022-12-01 10:30:25.776 | INFO     | __main__:train:72 - Epoch [39/100], Step [5538/14200], Train Loss: 0.0001, Valid Loss: 0.9882\n",
      "2022-12-01 10:30:29.109 | INFO     | __main__:train:72 - Epoch [40/100], Step [5609/14200], Train Loss: 0.0001, Valid Loss: 0.9921\n",
      "2022-12-01 10:30:32.381 | INFO     | __main__:train:72 - Epoch [40/100], Step [5680/14200], Train Loss: 0.0001, Valid Loss: 1.0015\n",
      "2022-12-01 10:30:35.516 | INFO     | __main__:train:72 - Epoch [41/100], Step [5751/14200], Train Loss: 0.0001, Valid Loss: 1.0057\n",
      "2022-12-01 10:30:38.764 | INFO     | __main__:train:72 - Epoch [41/100], Step [5822/14200], Train Loss: 0.0001, Valid Loss: 1.0168\n",
      "2022-12-01 10:30:41.888 | INFO     | __main__:train:72 - Epoch [42/100], Step [5893/14200], Train Loss: 0.0000, Valid Loss: 1.0196\n",
      "2022-12-01 10:30:45.117 | INFO     | __main__:train:72 - Epoch [42/100], Step [5964/14200], Train Loss: 0.0001, Valid Loss: 1.0287\n",
      "2022-12-01 10:30:48.234 | INFO     | __main__:train:72 - Epoch [43/100], Step [6035/14200], Train Loss: 0.0001, Valid Loss: 1.0342\n",
      "2022-12-01 10:30:51.529 | INFO     | __main__:train:72 - Epoch [43/100], Step [6106/14200], Train Loss: 0.0000, Valid Loss: 1.0473\n",
      "2022-12-01 10:30:54.726 | INFO     | __main__:train:72 - Epoch [44/100], Step [6177/14200], Train Loss: 0.0000, Valid Loss: 1.0505\n",
      "2022-12-01 10:30:57.967 | INFO     | __main__:train:72 - Epoch [44/100], Step [6248/14200], Train Loss: 0.0000, Valid Loss: 1.0600\n",
      "2022-12-01 10:31:01.102 | INFO     | __main__:train:72 - Epoch [45/100], Step [6319/14200], Train Loss: 0.0000, Valid Loss: 1.0642\n",
      "2022-12-01 10:31:04.330 | INFO     | __main__:train:72 - Epoch [45/100], Step [6390/14200], Train Loss: 0.0000, Valid Loss: 1.0708\n",
      "2022-12-01 10:31:07.465 | INFO     | __main__:train:72 - Epoch [46/100], Step [6461/14200], Train Loss: 0.0001, Valid Loss: 1.0780\n",
      "2022-12-01 10:31:10.695 | INFO     | __main__:train:72 - Epoch [46/100], Step [6532/14200], Train Loss: 0.0000, Valid Loss: 1.0882\n",
      "2022-12-01 10:31:13.802 | INFO     | __main__:train:72 - Epoch [47/100], Step [6603/14200], Train Loss: 0.0000, Valid Loss: 1.0915\n",
      "2022-12-01 10:31:17.031 | INFO     | __main__:train:72 - Epoch [47/100], Step [6674/14200], Train Loss: 0.0000, Valid Loss: 1.1024\n",
      "2022-12-01 10:31:20.148 | INFO     | __main__:train:72 - Epoch [48/100], Step [6745/14200], Train Loss: 0.0000, Valid Loss: 1.1033\n",
      "2022-12-01 10:31:23.402 | INFO     | __main__:train:72 - Epoch [48/100], Step [6816/14200], Train Loss: 0.0000, Valid Loss: 1.1141\n",
      "2022-12-01 10:31:26.550 | INFO     | __main__:train:72 - Epoch [49/100], Step [6887/14200], Train Loss: 0.0000, Valid Loss: 1.1158\n",
      "2022-12-01 10:31:29.794 | INFO     | __main__:train:72 - Epoch [49/100], Step [6958/14200], Train Loss: 0.0000, Valid Loss: 1.1253\n",
      "2022-12-01 10:31:32.988 | INFO     | __main__:train:72 - Epoch [50/100], Step [7029/14200], Train Loss: 0.0000, Valid Loss: 1.1302\n",
      "2022-12-01 10:31:36.465 | INFO     | __main__:train:72 - Epoch [50/100], Step [7100/14200], Train Loss: 0.0000, Valid Loss: 1.1384\n",
      "2022-12-01 10:31:39.649 | INFO     | __main__:train:72 - Epoch [51/100], Step [7171/14200], Train Loss: 0.0000, Valid Loss: 1.1334\n",
      "2022-12-01 10:31:42.928 | INFO     | __main__:train:72 - Epoch [51/100], Step [7242/14200], Train Loss: 0.0000, Valid Loss: 1.1408\n",
      "2022-12-01 10:31:46.109 | INFO     | __main__:train:72 - Epoch [52/100], Step [7313/14200], Train Loss: 0.0000, Valid Loss: 1.1463\n",
      "2022-12-01 10:31:49.396 | INFO     | __main__:train:72 - Epoch [52/100], Step [7384/14200], Train Loss: 0.0000, Valid Loss: 1.1636\n",
      "2022-12-01 10:31:52.577 | INFO     | __main__:train:72 - Epoch [53/100], Step [7455/14200], Train Loss: 0.0000, Valid Loss: 1.1774\n",
      "2022-12-01 10:31:55.851 | INFO     | __main__:train:72 - Epoch [53/100], Step [7526/14200], Train Loss: 0.0000, Valid Loss: 1.1883\n",
      "2022-12-01 10:31:59.104 | INFO     | __main__:train:72 - Epoch [54/100], Step [7597/14200], Train Loss: 0.0000, Valid Loss: 1.1942\n",
      "2022-12-01 10:32:02.435 | INFO     | __main__:train:72 - Epoch [54/100], Step [7668/14200], Train Loss: 0.0000, Valid Loss: 1.2011\n",
      "2022-12-01 10:32:05.599 | INFO     | __main__:train:72 - Epoch [55/100], Step [7739/14200], Train Loss: 0.0000, Valid Loss: 1.2026\n",
      "2022-12-01 10:32:08.870 | INFO     | __main__:train:72 - Epoch [55/100], Step [7810/14200], Train Loss: 0.0000, Valid Loss: 1.2104\n",
      "2022-12-01 10:32:12.029 | INFO     | __main__:train:72 - Epoch [56/100], Step [7881/14200], Train Loss: 0.0000, Valid Loss: 1.2178\n",
      "2022-12-01 10:32:15.298 | INFO     | __main__:train:72 - Epoch [56/100], Step [7952/14200], Train Loss: 0.0000, Valid Loss: 1.2241\n",
      "2022-12-01 10:32:18.468 | INFO     | __main__:train:72 - Epoch [57/100], Step [8023/14200], Train Loss: 0.0000, Valid Loss: 1.2237\n",
      "2022-12-01 10:32:21.746 | INFO     | __main__:train:72 - Epoch [57/100], Step [8094/14200], Train Loss: 0.0000, Valid Loss: 1.2350\n",
      "2022-12-01 10:32:24.908 | INFO     | __main__:train:72 - Epoch [58/100], Step [8165/14200], Train Loss: 0.0000, Valid Loss: 1.2431\n",
      "2022-12-01 10:32:28.209 | INFO     | __main__:train:72 - Epoch [58/100], Step [8236/14200], Train Loss: 0.0000, Valid Loss: 1.2532\n",
      "2022-12-01 10:32:31.384 | INFO     | __main__:train:72 - Epoch [59/100], Step [8307/14200], Train Loss: 0.0000, Valid Loss: 1.2586\n",
      "2022-12-01 10:32:34.660 | INFO     | __main__:train:72 - Epoch [59/100], Step [8378/14200], Train Loss: 0.0000, Valid Loss: 1.2667\n",
      "2022-12-01 10:32:37.824 | INFO     | __main__:train:72 - Epoch [60/100], Step [8449/14200], Train Loss: 0.0000, Valid Loss: 1.2709\n",
      "2022-12-01 10:32:41.303 | INFO     | __main__:train:72 - Epoch [60/100], Step [8520/14200], Train Loss: 0.0000, Valid Loss: 1.2744\n",
      "2022-12-01 10:32:44.599 | INFO     | __main__:train:72 - Epoch [61/100], Step [8591/14200], Train Loss: 0.0000, Valid Loss: 1.2775\n",
      "2022-12-01 10:32:47.897 | INFO     | __main__:train:72 - Epoch [61/100], Step [8662/14200], Train Loss: 0.0000, Valid Loss: 1.2861\n",
      "2022-12-01 10:32:51.087 | INFO     | __main__:train:72 - Epoch [62/100], Step [8733/14200], Train Loss: 0.0000, Valid Loss: 1.2816\n",
      "2022-12-01 10:32:54.382 | INFO     | __main__:train:72 - Epoch [62/100], Step [8804/14200], Train Loss: 0.0000, Valid Loss: 1.3061\n",
      "2022-12-01 10:32:57.558 | INFO     | __main__:train:72 - Epoch [63/100], Step [8875/14200], Train Loss: 0.0000, Valid Loss: 1.3252\n",
      "2022-12-01 10:33:00.844 | INFO     | __main__:train:72 - Epoch [63/100], Step [8946/14200], Train Loss: 0.0000, Valid Loss: 1.3321\n",
      "2022-12-01 10:33:04.057 | INFO     | __main__:train:72 - Epoch [64/100], Step [9017/14200], Train Loss: 0.0000, Valid Loss: 1.3219\n",
      "2022-12-01 10:33:07.494 | INFO     | __main__:train:72 - Epoch [64/100], Step [9088/14200], Train Loss: 0.0000, Valid Loss: 1.3341\n",
      "2022-12-01 10:33:10.706 | INFO     | __main__:train:72 - Epoch [65/100], Step [9159/14200], Train Loss: 0.0000, Valid Loss: 1.3539\n",
      "2022-12-01 10:33:14.023 | INFO     | __main__:train:72 - Epoch [65/100], Step [9230/14200], Train Loss: 0.0000, Valid Loss: 1.3606\n",
      "2022-12-01 10:33:17.231 | INFO     | __main__:train:72 - Epoch [66/100], Step [9301/14200], Train Loss: 0.0000, Valid Loss: 1.3703\n",
      "2022-12-01 10:33:20.542 | INFO     | __main__:train:72 - Epoch [66/100], Step [9372/14200], Train Loss: 0.0000, Valid Loss: 1.3786\n",
      "2022-12-01 10:33:23.747 | INFO     | __main__:train:72 - Epoch [67/100], Step [9443/14200], Train Loss: 0.0000, Valid Loss: 1.3851\n",
      "2022-12-01 10:33:27.051 | INFO     | __main__:train:72 - Epoch [67/100], Step [9514/14200], Train Loss: 0.0000, Valid Loss: 1.3787\n",
      "2022-12-01 10:33:30.250 | INFO     | __main__:train:72 - Epoch [68/100], Step [9585/14200], Train Loss: 0.0000, Valid Loss: 1.3842\n",
      "2022-12-01 10:33:33.553 | INFO     | __main__:train:72 - Epoch [68/100], Step [9656/14200], Train Loss: 0.0000, Valid Loss: 1.3969\n",
      "2022-12-01 10:33:36.752 | INFO     | __main__:train:72 - Epoch [69/100], Step [9727/14200], Train Loss: 0.0000, Valid Loss: 1.3978\n",
      "2022-12-01 10:33:40.048 | INFO     | __main__:train:72 - Epoch [69/100], Step [9798/14200], Train Loss: 0.0000, Valid Loss: 1.4104\n",
      "2022-12-01 10:33:43.223 | INFO     | __main__:train:72 - Epoch [70/100], Step [9869/14200], Train Loss: 0.0000, Valid Loss: 1.3977\n",
      "2022-12-01 10:33:46.570 | INFO     | __main__:train:72 - Epoch [70/100], Step [9940/14200], Train Loss: 0.0000, Valid Loss: 1.4053\n",
      "2022-12-01 10:33:50.003 | INFO     | __main__:train:72 - Epoch [71/100], Step [10011/14200], Train Loss: 0.0000, Valid Loss: 1.4150\n",
      "2022-12-01 10:33:53.343 | INFO     | __main__:train:72 - Epoch [71/100], Step [10082/14200], Train Loss: 0.0000, Valid Loss: 1.4273\n",
      "2022-12-01 10:33:56.550 | INFO     | __main__:train:72 - Epoch [72/100], Step [10153/14200], Train Loss: 0.0000, Valid Loss: 1.4449\n",
      "2022-12-01 10:33:59.855 | INFO     | __main__:train:72 - Epoch [72/100], Step [10224/14200], Train Loss: 0.0000, Valid Loss: 1.4578\n",
      "2022-12-01 10:34:03.062 | INFO     | __main__:train:72 - Epoch [73/100], Step [10295/14200], Train Loss: 0.0000, Valid Loss: 1.4274\n",
      "2022-12-01 10:34:06.372 | INFO     | __main__:train:72 - Epoch [73/100], Step [10366/14200], Train Loss: 0.0000, Valid Loss: 1.4364\n",
      "2022-12-01 10:34:09.594 | INFO     | __main__:train:72 - Epoch [74/100], Step [10437/14200], Train Loss: 0.0000, Valid Loss: 1.4441\n",
      "2022-12-01 10:34:13.030 | INFO     | __main__:train:72 - Epoch [74/100], Step [10508/14200], Train Loss: 0.0000, Valid Loss: 1.4582\n",
      "2022-12-01 10:34:16.277 | INFO     | __main__:train:72 - Epoch [75/100], Step [10579/14200], Train Loss: 0.0000, Valid Loss: 1.4613\n",
      "2022-12-01 10:34:19.595 | INFO     | __main__:train:72 - Epoch [75/100], Step [10650/14200], Train Loss: 0.0000, Valid Loss: 1.4773\n",
      "2022-12-01 10:34:22.805 | INFO     | __main__:train:72 - Epoch [76/100], Step [10721/14200], Train Loss: 0.0000, Valid Loss: 1.4810\n",
      "2022-12-01 10:34:26.106 | INFO     | __main__:train:72 - Epoch [76/100], Step [10792/14200], Train Loss: 0.0000, Valid Loss: 1.4701\n",
      "2022-12-01 10:34:29.291 | INFO     | __main__:train:72 - Epoch [77/100], Step [10863/14200], Train Loss: 0.0000, Valid Loss: 1.4969\n",
      "2022-12-01 10:34:32.616 | INFO     | __main__:train:72 - Epoch [77/100], Step [10934/14200], Train Loss: 0.0000, Valid Loss: 1.5033\n",
      "2022-12-01 10:34:35.824 | INFO     | __main__:train:72 - Epoch [78/100], Step [11005/14200], Train Loss: 0.0000, Valid Loss: 1.5091\n",
      "2022-12-01 10:34:39.157 | INFO     | __main__:train:72 - Epoch [78/100], Step [11076/14200], Train Loss: 0.0000, Valid Loss: 1.5185\n",
      "2022-12-01 10:34:42.355 | INFO     | __main__:train:72 - Epoch [79/100], Step [11147/14200], Train Loss: 0.0000, Valid Loss: 1.5651\n",
      "2022-12-01 10:34:45.659 | INFO     | __main__:train:72 - Epoch [79/100], Step [11218/14200], Train Loss: 0.0000, Valid Loss: 1.5669\n",
      "2022-12-01 10:34:48.853 | INFO     | __main__:train:72 - Epoch [80/100], Step [11289/14200], Train Loss: 0.0000, Valid Loss: 1.5734\n",
      "2022-12-01 10:34:52.177 | INFO     | __main__:train:72 - Epoch [80/100], Step [11360/14200], Train Loss: 0.0000, Valid Loss: 1.6537\n",
      "2022-12-01 10:34:55.617 | INFO     | __main__:train:72 - Epoch [81/100], Step [11431/14200], Train Loss: 0.0000, Valid Loss: 1.6558\n",
      "2022-12-01 10:34:58.996 | INFO     | __main__:train:72 - Epoch [81/100], Step [11502/14200], Train Loss: 0.0246, Valid Loss: 1.0071\n",
      "2022-12-01 10:35:02.191 | INFO     | __main__:train:72 - Epoch [82/100], Step [11573/14200], Train Loss: 0.0266, Valid Loss: 0.9382\n",
      "2022-12-01 10:35:05.503 | INFO     | __main__:train:72 - Epoch [82/100], Step [11644/14200], Train Loss: 0.0124, Valid Loss: 1.1379\n",
      "2022-12-01 10:35:08.678 | INFO     | __main__:train:72 - Epoch [83/100], Step [11715/14200], Train Loss: 0.0010, Valid Loss: 1.1237\n",
      "2022-12-01 10:35:11.973 | INFO     | __main__:train:72 - Epoch [83/100], Step [11786/14200], Train Loss: 0.0002, Valid Loss: 1.0810\n",
      "2022-12-01 10:35:15.159 | INFO     | __main__:train:72 - Epoch [84/100], Step [11857/14200], Train Loss: 0.0001, Valid Loss: 1.0821\n",
      "2022-12-01 10:35:18.516 | INFO     | __main__:train:72 - Epoch [84/100], Step [11928/14200], Train Loss: 0.0002, Valid Loss: 1.0834\n",
      "2022-12-01 10:35:21.800 | INFO     | __main__:train:72 - Epoch [85/100], Step [11999/14200], Train Loss: 0.0002, Valid Loss: 1.0901\n",
      "2022-12-01 10:35:25.137 | INFO     | __main__:train:72 - Epoch [85/100], Step [12070/14200], Train Loss: 0.0001, Valid Loss: 1.0916\n",
      "2022-12-01 10:35:28.343 | INFO     | __main__:train:72 - Epoch [86/100], Step [12141/14200], Train Loss: 0.0001, Valid Loss: 1.0924\n",
      "2022-12-01 10:35:31.644 | INFO     | __main__:train:72 - Epoch [86/100], Step [12212/14200], Train Loss: 0.0000, Valid Loss: 1.0943\n",
      "2022-12-01 10:35:34.841 | INFO     | __main__:train:72 - Epoch [87/100], Step [12283/14200], Train Loss: 0.0000, Valid Loss: 1.0976\n",
      "2022-12-01 10:35:38.143 | INFO     | __main__:train:72 - Epoch [87/100], Step [12354/14200], Train Loss: 0.0001, Valid Loss: 1.0974\n",
      "2022-12-01 10:35:41.327 | INFO     | __main__:train:72 - Epoch [88/100], Step [12425/14200], Train Loss: 0.0000, Valid Loss: 1.0996\n",
      "2022-12-01 10:35:44.619 | INFO     | __main__:train:72 - Epoch [88/100], Step [12496/14200], Train Loss: 0.0000, Valid Loss: 1.1004\n",
      "2022-12-01 10:35:47.801 | INFO     | __main__:train:72 - Epoch [89/100], Step [12567/14200], Train Loss: 0.0000, Valid Loss: 1.1029\n",
      "2022-12-01 10:35:51.090 | INFO     | __main__:train:72 - Epoch [89/100], Step [12638/14200], Train Loss: 0.0000, Valid Loss: 1.1024\n",
      "2022-12-01 10:35:54.272 | INFO     | __main__:train:72 - Epoch [90/100], Step [12709/14200], Train Loss: 0.0000, Valid Loss: 1.1104\n",
      "2022-12-01 10:35:57.529 | INFO     | __main__:train:72 - Epoch [90/100], Step [12780/14200], Train Loss: 0.0000, Valid Loss: 1.1122\n",
      "2022-12-01 10:36:00.799 | INFO     | __main__:train:72 - Epoch [91/100], Step [12851/14200], Train Loss: 0.0000, Valid Loss: 1.1160\n",
      "2022-12-01 10:36:04.239 | INFO     | __main__:train:72 - Epoch [91/100], Step [12922/14200], Train Loss: 0.0000, Valid Loss: 1.1158\n",
      "2022-12-01 10:36:07.424 | INFO     | __main__:train:72 - Epoch [92/100], Step [12993/14200], Train Loss: 0.0000, Valid Loss: 1.1191\n",
      "2022-12-01 10:36:10.713 | INFO     | __main__:train:72 - Epoch [92/100], Step [13064/14200], Train Loss: 0.0000, Valid Loss: 1.1211\n",
      "2022-12-01 10:36:13.868 | INFO     | __main__:train:72 - Epoch [93/100], Step [13135/14200], Train Loss: 0.0000, Valid Loss: 1.1236\n",
      "2022-12-01 10:36:17.157 | INFO     | __main__:train:72 - Epoch [93/100], Step [13206/14200], Train Loss: 0.0000, Valid Loss: 1.1232\n",
      "2022-12-01 10:36:20.318 | INFO     | __main__:train:72 - Epoch [94/100], Step [13277/14200], Train Loss: 0.0000, Valid Loss: 1.1447\n",
      "2022-12-01 10:36:23.589 | INFO     | __main__:train:72 - Epoch [94/100], Step [13348/14200], Train Loss: 0.0000, Valid Loss: 1.1504\n",
      "2022-12-01 10:36:26.869 | INFO     | __main__:train:72 - Epoch [95/100], Step [13419/14200], Train Loss: 0.0000, Valid Loss: 1.1549\n",
      "2022-12-01 10:36:30.154 | INFO     | __main__:train:72 - Epoch [95/100], Step [13490/14200], Train Loss: 0.0000, Valid Loss: 1.1561\n",
      "2022-12-01 10:36:33.297 | INFO     | __main__:train:72 - Epoch [96/100], Step [13561/14200], Train Loss: 0.0000, Valid Loss: 1.1587\n",
      "2022-12-01 10:36:36.558 | INFO     | __main__:train:72 - Epoch [96/100], Step [13632/14200], Train Loss: 0.0000, Valid Loss: 1.1586\n",
      "2022-12-01 10:36:39.711 | INFO     | __main__:train:72 - Epoch [97/100], Step [13703/14200], Train Loss: 0.0000, Valid Loss: 1.1605\n",
      "2022-12-01 10:36:42.981 | INFO     | __main__:train:72 - Epoch [97/100], Step [13774/14200], Train Loss: 0.0000, Valid Loss: 1.1622\n",
      "2022-12-01 10:36:46.112 | INFO     | __main__:train:72 - Epoch [98/100], Step [13845/14200], Train Loss: 0.0000, Valid Loss: 1.1639\n",
      "2022-12-01 10:36:49.369 | INFO     | __main__:train:72 - Epoch [98/100], Step [13916/14200], Train Loss: 0.0000, Valid Loss: 1.1651\n",
      "2022-12-01 10:36:52.512 | INFO     | __main__:train:72 - Epoch [99/100], Step [13987/14200], Train Loss: 0.0000, Valid Loss: 1.1732\n",
      "2022-12-01 10:36:55.785 | INFO     | __main__:train:72 - Epoch [99/100], Step [14058/14200], Train Loss: 0.0000, Valid Loss: 1.1757\n",
      "2022-12-01 10:36:58.941 | INFO     | __main__:train:72 - Epoch [100/100], Step [14129/14200], Train Loss: 0.0000, Valid Loss: 1.1779\n",
      "2022-12-01 10:37:02.212 | INFO     | __main__:train:72 - Epoch [100/100], Step [14200/14200], Train Loss: 0.0000, Valid Loss: 1.1815\n",
      "2022-12-01 10:37:02.213 | INFO     | __main__:save_metrics:15 - Model saved to ==> modelst/metrics.pt\n",
      "2022-12-01 10:37:02.214 | INFO     | __main__:train:95 - Finished Training!\n"
     ]
    }
   ],
   "source": [
    "train(\n",
    "    model=model,\n",
    "    optimizer=optimizer,\n",
    "    num_epochs=100,\n",
    "    device=device\n",
    ")"
   ]
  },
  {
   "cell_type": "code",
   "execution_count": 37,
   "metadata": {},
   "outputs": [
    {
     "name": "stderr",
     "output_type": "stream",
     "text": [
      "2022-12-01 10:46:57.253 | INFO     | __main__:load_metrics:7 - Model loaded from <== models/metrics.pt\n"
     ]
    },
    {
     "data": {
      "image/png": "[encoded data removed]",
      "text/plain": [
       "<Figure size 640x480 with 1 Axes>"
      ]
     },
     "metadata": {},
     "output_type": "display_data"
    }
   ],
   "source": [
    "destination_folder = \"models\"\n",
    "\n",
    "train_loss_list, valid_loss_list, global_steps_list = load_metrics(destination_folder + '/metrics.pt', device=device)\n",
    "plt.plot(global_steps_list, train_loss_list, label='Train')\n",
    "plt.plot(global_steps_list, valid_loss_list, label='Valid')\n",
    "plt.xlabel('Global Steps')\n",
    "plt.ylabel('Loss')\n",
    "plt.legend()\n",
    "plt.show() "
   ]
  },
  {
   "cell_type": "markdown",
   "metadata": {},
   "source": [
    "## Coclusion\n",
    "Like you have seen in the graph above, our model is <font color=\"red\">overfitting</font> in training dataset.<br>\n",
    "Solution: [link](https://stats.stackexchange.com/questions/204745/preventing-overfitting-of-lstm-on-small-dataset)"
   ]
  },
  {
   "cell_type": "markdown",
   "metadata": {},
   "source": [
    "## Step 6: Evaluation"
   ]
  },
  {
   "cell_type": "code",
   "execution_count": 39,
   "metadata": {},
   "outputs": [],
   "source": [
    "test_df = pd.read_csv(\n",
    "    filepath_or_buffer=\"data/test.csv\",\n",
    ")\n",
    "test_df['text_len'] = test_df['text'].apply(lambda x: len(x))\n",
    "test_df = test_df.sort_values(by=\"text_len\")"
   ]
  },
  {
   "cell_type": "code",
   "execution_count": 40,
   "metadata": {},
   "outputs": [],
   "source": [
    "test_dataset = NewsDataset(df=test_df)"
   ]
  },
  {
   "cell_type": "code",
   "execution_count": 41,
   "metadata": {},
   "outputs": [],
   "source": [
    "test_loader = DataLoader(\n",
    "    dataset=test_dataset,\n",
    "    batch_size=8,\n",
    "    collate_fn=collate_fn\n",
    ")"
   ]
  },
  {
   "cell_type": "code",
   "execution_count": 44,
   "metadata": {},
   "outputs": [
    {
     "name": "stderr",
     "output_type": "stream",
     "text": [
      "2022-12-01 10:51:54.366 | INFO     | __main__:load_checkpoint:10 - Model loaded from <== models/model.pt\n"
     ]
    },
    {
     "name": "stdout",
     "output_type": "stream",
     "text": [
      "Classification Report:\n",
      "              precision    recall  f1-score   support\n",
      "\n",
      "           1     0.8094    0.8275    0.8183       313\n",
      "           0     0.8264    0.8082    0.8172       318\n",
      "\n",
      "    accuracy                         0.8177       631\n",
      "   macro avg     0.8179    0.8178    0.8177       631\n",
      "weighted avg     0.8179    0.8177    0.8177       631\n",
      "\n"
     ]
    },
    {
     "data": {
      "image/png": "[encoded data removed]",
      "text/plain": [
       "<Figure size 640x480 with 2 Axes>"
      ]
     },
     "metadata": {},
     "output_type": "display_data"
    }
   ],
   "source": [
    "# Evaluation Function\n",
    "\n",
    "def evaluate(model, test_loader, version='title', threshold=0.5):\n",
    "    y_pred = []\n",
    "    y_true = []\n",
    "\n",
    "    model.eval()\n",
    "    with torch.no_grad():\n",
    "        for labels, titletext, titletext_len in test_loader:           \n",
    "            labels = labels.to(device)\n",
    "            titletext = titletext.to(device)\n",
    "            titletext_len = titletext_len\n",
    "            output = model(titletext, titletext_len)\n",
    "\n",
    "            output = (output > threshold).int()\n",
    "            y_pred.extend(output.tolist())\n",
    "            y_true.extend(labels.tolist())\n",
    "    \n",
    "    print('Classification Report:')\n",
    "    print(classification_report(y_true, y_pred, labels=[1,0], digits=4))\n",
    "    \n",
    "    cm = confusion_matrix(y_true, y_pred, labels=[1,0])\n",
    "    ax= plt.subplot()\n",
    "    sns.heatmap(cm, annot=True, ax = ax, cmap='Blues', fmt=\"d\")\n",
    "\n",
    "    ax.set_title('Confusion Matrix')\n",
    "\n",
    "    ax.set_xlabel('Predicted Labels')\n",
    "    ax.set_ylabel('True Labels')\n",
    "\n",
    "    ax.xaxis.set_ticklabels(['FAKE', 'REAL'])\n",
    "    ax.yaxis.set_ticklabels(['FAKE', 'REAL'])\n",
    "    \n",
    "    \n",
    "best_model = RealFakeDetection().to(device)\n",
    "optimizer = optim.Adam(best_model.parameters(), lr=0.001)\n",
    "\n",
    "load_checkpoint(destination_folder + '/model.pt', best_model, optimizer, device=device)\n",
    "evaluate(best_model, test_loader)"
   ]
  },
  {
   "cell_type": "markdown",
   "metadata": {},
   "source": [
    "## Test"
   ]
  },
  {
   "cell_type": "code",
   "execution_count": null,
   "metadata": {},
   "outputs": [],
   "source": [
    "import torch\n",
    "from torch import nn\n",
    "from torch.nn.utils.rnn import pack_padded_sequence"
   ]
  },
  {
   "cell_type": "code",
   "execution_count": null,
   "metadata": {},
   "outputs": [],
   "source": [
    "data = torch.Tensor([[1, 0, 0], [3, 4, 0], [5, 6, 0], [6, 7, 8]])\n",
    "data"
   ]
  },
  {
   "cell_type": "code",
   "execution_count": null,
   "metadata": {},
   "outputs": [],
   "source": [
    "data.shape"
   ]
  },
  {
   "cell_type": "code",
   "execution_count": null,
   "metadata": {},
   "outputs": [],
   "source": [
    "pack_padded_sequence(\n",
    "    input=data,\n",
    "    lengths=[1, 2, 2, 3],\n",
    "    batch_first=True,\n",
    "    enforce_sorted=False\n",
    ")"
   ]
  },
  {
   "cell_type": "code",
   "execution_count": null,
   "metadata": {},
   "outputs": [],
   "source": []
  },
  {
   "cell_type": "code",
   "execution_count": null,
   "metadata": {},
   "outputs": [],
   "source": [
    "output = torch.Tensor(\n",
    "    [[[1, 2, 3, 4], \n",
    "      [4, 5, 6, 7]], \n",
    "     [[7, 8, 9, 10], \n",
    "      [10, 11, 12, 13]]]\n",
    ")"
   ]
  },
  {
   "cell_type": "code",
   "execution_count": null,
   "metadata": {},
   "outputs": [],
   "source": [
    "output.shape"
   ]
  },
  {
   "cell_type": "markdown",
   "metadata": {},
   "source": [
    "`torch.Size([2, 2, 3])` is our shape with:\n",
    "- `2` is our batch size.\n",
    "- `2` is our sequence length.\n",
    "- `4` is our embedding size."
   ]
  },
  {
   "cell_type": "code",
   "execution_count": null,
   "metadata": {},
   "outputs": [],
   "source": [
    "output"
   ]
  },
  {
   "cell_type": "markdown",
   "metadata": {},
   "source": [
    "output from LSTM layer has shape of `torch.Size([2, 2, 12])` with:\n",
    "- `2` is batch size.\n",
    "- `2` is sequence length.\n",
    "- `12` is hidden size (it is `2x` cause we use Bidirectional LSTM)"
   ]
  },
  {
   "cell_type": "code",
   "execution_count": null,
   "metadata": {},
   "outputs": [],
   "source": [
    "out_forward = output[range(len(output)), 2 - 1, :2]\n",
    "out_forward"
   ]
  },
  {
   "cell_type": "code",
   "execution_count": null,
   "metadata": {},
   "outputs": [],
   "source": [
    "out_forward.shape"
   ]
  },
  {
   "cell_type": "code",
   "execution_count": null,
   "metadata": {},
   "outputs": [],
   "source": [
    "out_reverse = output[:, 0, 2:]\n",
    "out_reverse"
   ]
  },
  {
   "cell_type": "code",
   "execution_count": null,
   "metadata": {},
   "outputs": [],
   "source": [
    "out_reverse.shape"
   ]
  },
  {
   "cell_type": "code",
   "execution_count": null,
   "metadata": {},
   "outputs": [],
   "source": [
    "out_reduced = torch.cat((out_forward, out_reverse), dim=1)"
   ]
  },
  {
   "cell_type": "code",
   "execution_count": null,
   "metadata": {},
   "outputs": [],
   "source": [
    "out_reduced.shape"
   ]
  },
  {
   "cell_type": "code",
   "execution_count": null,
   "metadata": {},
   "outputs": [],
   "source": [
    "out_reduced"
   ]
  },
  {
   "cell_type": "code",
   "execution_count": null,
   "metadata": {},
   "outputs": [],
   "source": [
    "fc = nn.Linear(\n",
    "        in_features=2*2,\n",
    "        out_features=1)"
   ]
  },
  {
   "cell_type": "code",
   "execution_count": null,
   "metadata": {},
   "outputs": [],
   "source": [
    "text_fea = fc(out_reduced)\n",
    "text_fea.shape"
   ]
  },
  {
   "cell_type": "code",
   "execution_count": null,
   "metadata": {},
   "outputs": [],
   "source": [
    "text_fea"
   ]
  },
  {
   "cell_type": "code",
   "execution_count": null,
   "metadata": {},
   "outputs": [],
   "source": [
    "text_fea.squeeze(dim=1)"
   ]
  },
  {
   "cell_type": "code",
   "execution_count": null,
   "metadata": {},
   "outputs": [],
   "source": []
  },
  {
   "cell_type": "code",
   "execution_count": null,
   "metadata": {},
   "outputs": [],
   "source": []
  },
  {
   "cell_type": "code",
   "execution_count": null,
   "metadata": {},
   "outputs": [],
   "source": []
  }
 ],
 "metadata": {
  "kernelspec": {
   "display_name": "Python 3.7.13 ('nlp')",
   "language": "python",
   "name": "python3"
  },
  "language_info": {
   "codemirror_mode": {
    "name": "ipython",
    "version": 3
   },
   "file_extension": ".py",
   "mimetype": "text/x-python",
   "name": "python",
   "nbconvert_exporter": "python",
   "pygments_lexer": "ipython3",
   "version": "3.7.13"
  },
  "orig_nbformat": 4,
  "vscode": {
   "interpreter": {
    "hash": "9f9317ae4ac2338909043adb5bc0b1d3c8128305884d35a5f05b557631cd8fe0"
   }
  }
 },
 "nbformat": 4,
 "nbformat_minor": 2
}
